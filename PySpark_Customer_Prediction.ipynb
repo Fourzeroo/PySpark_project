{
 "cells": [
  {
   "cell_type": "markdown",
   "metadata": {
    "id": "O1eOogPqix4i"
   },
   "source": [
    "# **Загрузка наших данных**\n",
    "\n",
    "Установка pyspark с помощью pip"
   ]
  },
  {
   "cell_type": "code",
   "execution_count": 1,
   "metadata": {
    "ExecuteTime": {
     "end_time": "2023-06-21T19:45:21.750694Z",
     "start_time": "2023-06-21T19:45:13.231344Z"
    },
    "colab": {
     "base_uri": "https://localhost:8080/"
    },
    "id": "pYfUECtFisDa",
    "outputId": "7a88ce4f-9754-4859-cdfc-ca329a4181fc"
   },
   "outputs": [
    {
     "name": "stdout",
     "output_type": "stream",
     "text": [
      "Requirement already satisfied: pyspark in c:\\users\\fourz\\anaconda3\\lib\\site-packages (3.4.0)\n",
      "Requirement already satisfied: py4j==0.10.9.7 in c:\\users\\fourz\\anaconda3\\lib\\site-packages (from pyspark) (0.10.9.7)\n"
     ]
    }
   ],
   "source": [
    "# !pip install pyspark"
   ]
  },
  {
   "cell_type": "code",
   "execution_count": null,
   "metadata": {},
   "outputs": [],
   "source": [
    "import os\n",
    "os.environ[\"JAVA_HOME\"] = \"/usr/lib/jvm/java-8-openjdk-amd64\"\n",
    "os.environ[\"SPARK_HOME\"] = \"/content/spark-3.0.3-bin-hadoop2.7\"\n",
    "import findspark\n",
    "findspark.init()"
   ]
  },
  {
   "cell_type": "code",
   "execution_count": 26,
   "metadata": {
    "ExecuteTime": {
     "end_time": "2023-07-10T11:31:58.351510Z",
     "start_time": "2023-07-10T11:31:58.332669Z"
    },
    "id": "tiE8RPAHvWHD"
   },
   "outputs": [],
   "source": [
    "from pyspark.sql import SparkSession\n",
    "from pyspark.conf import SparkConf\n",
    "from pyspark.sql.functions import col, when, count, udf, countDistinct\n",
    "\n",
    "import seaborn as sns\n",
    "import matplotlib.pyplot as plt\n",
    "import plotly.express as px \n",
    "import pandas as pd\n",
    "\n",
    "\n",
    "from pyspark.ml.feature import Imputer, StringIndexer, VectorAssembler, StandardScaler, OneHotEncoder\n",
    "from pyspark.ml.classification import DecisionTreeClassifier\n",
    "from pyspark.ml.evaluation import BinaryClassificationEvaluator\n",
    "from pyspark.ml.tuning import CrossValidator, ParamGridBuilder\n",
    "\n"
   ]
  },
  {
   "cell_type": "markdown",
   "metadata": {
    "id": "W-_0aGYvj6sI"
   },
   "source": [
    "Создание Spark Session"
   ]
  },
  {
   "cell_type": "code",
   "execution_count": 2,
   "metadata": {
    "ExecuteTime": {
     "end_time": "2023-07-10T11:30:50.592448Z",
     "start_time": "2023-07-10T11:30:38.956320Z"
    }
   },
   "outputs": [
    {
     "data": {
      "text/html": [
       "\n",
       "            <div>\n",
       "                <p><b>SparkSession - in-memory</b></p>\n",
       "                \n",
       "        <div>\n",
       "            <p><b>SparkContext</b></p>\n",
       "\n",
       "            <p><a href=\"http://Fourzeroo:4040\">Spark UI</a></p>\n",
       "\n",
       "            <dl>\n",
       "              <dt>Version</dt>\n",
       "                <dd><code>v3.4.0</code></dd>\n",
       "              <dt>Master</dt>\n",
       "                <dd><code>local[*]</code></dd>\n",
       "              <dt>AppName</dt>\n",
       "                <dd><code>Customer Churn Prediction</code></dd>\n",
       "            </dl>\n",
       "        </div>\n",
       "        \n",
       "            </div>\n",
       "        "
      ],
      "text/plain": [
       "<pyspark.sql.session.SparkSession at 0x2a9dd1c9f10>"
      ]
     },
     "execution_count": 2,
     "metadata": {},
     "output_type": "execute_result"
    }
   ],
   "source": [
    "conf = SparkConf().setAppName(\"Customer Churn Prediction\") \\\n",
    "            .setMaster(\"local[*]\") \\\n",
    "            .set(\"spark.executor.memory\", \"2g\")\n",
    "\n",
    "spark = SparkSession.builder.config(conf=conf).getOrCreate()\n",
    "spark"
   ]
  },
  {
   "cell_type": "markdown",
   "metadata": {
    "id": "B1aneLUYvh71"
   },
   "source": [
    "Загрузка данных"
   ]
  },
  {
   "cell_type": "code",
   "execution_count": 3,
   "metadata": {
    "ExecuteTime": {
     "end_time": "2023-07-10T11:30:56.582773Z",
     "start_time": "2023-07-10T11:30:50.674350Z"
    },
    "colab": {
     "base_uri": "https://localhost:8080/"
    },
    "id": "J3Y1melCvqN5",
    "outputId": "4ec11999-9b13-425d-b229-f1455a667e9c"
   },
   "outputs": [],
   "source": [
    "df = spark.read.format('csv') \\\n",
    "    .option('inferSchema', True) \\\n",
    "    .option('header', True) \\\n",
    "    .load(\"C:\\\\Users\\\\fourz\\\\OneDrive\\\\Рабочий стол\\\\PySpark\\\\Customer Churn Analysis\\\\dataset.csv\")"
   ]
  },
  {
   "cell_type": "code",
   "execution_count": 5,
   "metadata": {
    "ExecuteTime": {
     "end_time": "2023-07-10T11:31:02.581179Z",
     "start_time": "2023-07-10T11:31:02.100903Z"
    }
   },
   "outputs": [
    {
     "name": "stdout",
     "output_type": "stream",
     "text": [
      "-RECORD 0----------------------------\n",
      " customerID       | 7590-VHVEG       \n",
      " gender           | Female           \n",
      " SeniorCitizen    | No               \n",
      " Partner          | Yes              \n",
      " Dependents       | No               \n",
      " tenure           | 1                \n",
      " PhoneService     | No               \n",
      " MultipleLines    | No phone service \n",
      " InternetService  | DSL              \n",
      " OnlineSecurity   | No               \n",
      " OnlineBackup     | Yes              \n",
      " DeviceProtection | No               \n",
      " TechSupport      | No               \n",
      " StreamingTV      | No               \n",
      " StreamingMovies  | No               \n",
      " Contract         | Month-to-month   \n",
      " PaperlessBilling | Yes              \n",
      " PaymentMethod    | Electronic check \n",
      " MonthlyCharges   | 29.85            \n",
      " TotalCharges     | 29.85            \n",
      " Churn            | No               \n",
      "only showing top 1 row\n",
      "\n"
     ]
    }
   ],
   "source": [
    "df.show(truncate=False, n=1, vertical=True)"
   ]
  },
  {
   "cell_type": "code",
   "execution_count": 6,
   "metadata": {
    "ExecuteTime": {
     "end_time": "2023-07-10T11:31:02.990407Z",
     "start_time": "2023-07-10T11:31:02.979869Z"
    },
    "colab": {
     "base_uri": "https://localhost:8080/"
    },
    "id": "6yopaRXr4Ufr",
    "outputId": "0f54436b-6e4e-4c4a-8918-602bf92dba77"
   },
   "outputs": [
    {
     "name": "stdout",
     "output_type": "stream",
     "text": [
      "root\n",
      " |-- customerID: string (nullable = true)\n",
      " |-- gender: string (nullable = true)\n",
      " |-- SeniorCitizen: string (nullable = true)\n",
      " |-- Partner: string (nullable = true)\n",
      " |-- Dependents: string (nullable = true)\n",
      " |-- tenure: integer (nullable = true)\n",
      " |-- PhoneService: string (nullable = true)\n",
      " |-- MultipleLines: string (nullable = true)\n",
      " |-- InternetService: string (nullable = true)\n",
      " |-- OnlineSecurity: string (nullable = true)\n",
      " |-- OnlineBackup: string (nullable = true)\n",
      " |-- DeviceProtection: string (nullable = true)\n",
      " |-- TechSupport: string (nullable = true)\n",
      " |-- StreamingTV: string (nullable = true)\n",
      " |-- StreamingMovies: string (nullable = true)\n",
      " |-- Contract: string (nullable = true)\n",
      " |-- PaperlessBilling: string (nullable = true)\n",
      " |-- PaymentMethod: string (nullable = true)\n",
      " |-- MonthlyCharges: double (nullable = true)\n",
      " |-- TotalCharges: double (nullable = true)\n",
      " |-- Churn: string (nullable = true)\n",
      "\n"
     ]
    }
   ],
   "source": [
    "df.printSchema()"
   ]
  },
  {
   "cell_type": "code",
   "execution_count": 7,
   "metadata": {
    "ExecuteTime": {
     "end_time": "2023-07-10T11:31:04.004512Z",
     "start_time": "2023-07-10T11:31:03.373568Z"
    },
    "colab": {
     "base_uri": "https://localhost:8080/"
    },
    "id": "EW0B267Wv0tm",
    "outputId": "26ad0524-5261-4398-d7c2-3a953262cf9a"
   },
   "outputs": [
    {
     "name": "stdout",
     "output_type": "stream",
     "text": [
      "shape: 7043, 21\n"
     ]
    }
   ],
   "source": [
    "# Посмотрим размерность данных\n",
    "print(f'shape: {df.count()}, {len(df.columns)}')\n"
   ]
  },
  {
   "cell_type": "markdown",
   "metadata": {
    "id": "oZzDBEKT2H9P"
   },
   "source": [
    "# **EDA**\n",
    "- Анализ распределения\n",
    "- Корреляционный анализ\n",
    "- Поиск пропущенных значений"
   ]
  },
  {
   "cell_type": "code",
   "execution_count": 8,
   "metadata": {
    "ExecuteTime": {
     "end_time": "2023-07-10T11:31:04.392422Z",
     "start_time": "2023-07-10T11:31:04.381982Z"
    },
    "colab": {
     "base_uri": "https://localhost:8080/"
    },
    "id": "H4cJoyG-Ubel",
    "outputId": "d657bcec-743b-4e07-de9a-dfb96dd51cd7"
   },
   "outputs": [
    {
     "name": "stdout",
     "output_type": "stream",
     "text": [
      "['customerID', 'gender', 'SeniorCitizen', 'Partner', 'Dependents', 'PhoneService', 'MultipleLines', 'InternetService', 'OnlineSecurity', 'OnlineBackup', 'DeviceProtection', 'TechSupport', 'StreamingTV', 'StreamingMovies', 'Contract', 'PaperlessBilling', 'PaymentMethod', 'Churn']\n",
      "\n",
      "['tenure', 'MonthlyCharges', 'TotalCharges']\n"
     ]
    }
   ],
   "source": [
    "# Определим списки для хранения разных типов данных\n",
    "\n",
    "string_list = []\n",
    "numerical_list = []\n",
    "for i, v in df.dtypes:\n",
    "    if v == 'string':\n",
    "        string_list.append(i)     \n",
    "    else:\n",
    "        numerical_list.append(i)\n",
    "\n",
    "print(string_list)\n",
    "print()\n",
    "print(numerical_list)\n"
   ]
  },
  {
   "cell_type": "code",
   "execution_count": 9,
   "metadata": {
    "ExecuteTime": {
     "end_time": "2023-07-10T11:31:05.393449Z",
     "start_time": "2023-07-10T11:31:05.182258Z"
    }
   },
   "outputs": [
    {
     "name": "stdout",
     "output_type": "stream",
     "text": [
      "+------+--------------+------------+\n",
      "|tenure|MonthlyCharges|TotalCharges|\n",
      "+------+--------------+------------+\n",
      "|     1|         29.85|       29.85|\n",
      "|    34|         56.95|      1889.5|\n",
      "|     2|         53.85|      108.15|\n",
      "|    45|          42.3|     1840.75|\n",
      "|     2|          70.7|      151.65|\n",
      "+------+--------------+------------+\n",
      "only showing top 5 rows\n",
      "\n"
     ]
    }
   ],
   "source": [
    "df.select(numerical_list).show(5)"
   ]
  },
  {
   "cell_type": "markdown",
   "metadata": {
    "id": "DYoYREY75vfo"
   },
   "source": [
    "Для дальнейшего удобства визуализации соберем наши данные в DataFrame Pandas"
   ]
  },
  {
   "cell_type": "code",
   "execution_count": 10,
   "metadata": {
    "ExecuteTime": {
     "end_time": "2023-07-10T11:31:07.279475Z",
     "start_time": "2023-07-10T11:31:06.275788Z"
    },
    "colab": {
     "base_uri": "https://localhost:8080/",
     "height": 206
    },
    "id": "CWYeP2xp45Ot",
    "outputId": "c5a72014-9cad-4e3e-99bf-6b5dbbbd84d4"
   },
   "outputs": [],
   "source": [
    "df_pandas_num = df.select(numerical_list).toPandas()\n",
    "df_str_pandas = df.select(string_list).toPandas()"
   ]
  },
  {
   "cell_type": "code",
   "execution_count": 11,
   "metadata": {
    "ExecuteTime": {
     "end_time": "2023-07-10T11:31:09.447636Z",
     "start_time": "2023-07-10T11:31:07.395671Z"
    }
   },
   "outputs": [
    {
     "data": {
      "image/png": "[encoded data removed]",
      "text/plain": [
       "<Figure size 1760x960 with 2 Axes>"
      ]
     },
     "metadata": {},
     "output_type": "display_data"
    }
   ],
   "source": [
    "# Сразу посмотрим на пропущеные значения \n",
    "fig, ax = plt.subplots(1, 2, figsize=(22, 12), dpi=80, facecolor='w', edgecolor='k')\n",
    "\n",
    "sns.heatmap(\n",
    "    df_pandas_num.isna(),\n",
    "    cmap=\"Blues\",\n",
    "    cbar=False,\n",
    "    annot=False,\n",
    "    ax=ax[0]\n",
    ")\n",
    "ax[0].set_title(\"Пропущенные значения в числовых данных\")\n",
    "ax[0].set_xlabel(\"Колонки\")\n",
    "ax[0].set_ylabel(\"Строки\")\n",
    "\n",
    "sns.heatmap(\n",
    "    df_str_pandas.isna(),\n",
    "    cmap=\"Greens\",\n",
    "    cbar=False,\n",
    "    annot=False,\n",
    "    ax=ax[1]\n",
    ")\n",
    "ax[1].set_title(\"Пропущенные значения в категориальных данных\")\n",
    "ax[1].set_xlabel(\"Колонки\")\n",
    "ax[1].set_ylabel(\"Строки\")\n",
    "plt.show();\n"
   ]
  },
  {
   "cell_type": "markdown",
   "metadata": {},
   "source": [
    "Мы видим что пропущеных значений у нас только в колонке **TotalCharges**\n",
    "\n",
    "Давайте взгялянем сколько пропущено значений"
   ]
  },
  {
   "cell_type": "code",
   "execution_count": 12,
   "metadata": {
    "ExecuteTime": {
     "end_time": "2023-07-10T11:31:13.751964Z",
     "start_time": "2023-07-10T11:31:13.467719Z"
    }
   },
   "outputs": [
    {
     "data": {
      "text/plain": [
       "11"
      ]
     },
     "execution_count": 12,
     "metadata": {},
     "output_type": "execute_result"
    }
   ],
   "source": [
    "df.filter(col('TotalCharges').isNull()).alias('TotalCharges').count()"
   ]
  },
  {
   "cell_type": "markdown",
   "metadata": {},
   "source": [
    "**В целом мы можем их удалить но хочется поработать с `Imputer` из модуля `pyspark.ml`**"
   ]
  },
  {
   "cell_type": "code",
   "execution_count": 13,
   "metadata": {
    "ExecuteTime": {
     "end_time": "2023-07-10T11:31:14.714544Z",
     "start_time": "2023-07-10T11:31:14.691481Z"
    }
   },
   "outputs": [
    {
     "data": {
      "text/html": [
       "<div>\n",
       "<style scoped>\n",
       "    .dataframe tbody tr th:only-of-type {\n",
       "        vertical-align: middle;\n",
       "    }\n",
       "\n",
       "    .dataframe tbody tr th {\n",
       "        vertical-align: top;\n",
       "    }\n",
       "\n",
       "    .dataframe thead th {\n",
       "        text-align: right;\n",
       "    }\n",
       "</style>\n",
       "<table border=\"1\" class=\"dataframe\">\n",
       "  <thead>\n",
       "    <tr style=\"text-align: right;\">\n",
       "      <th></th>\n",
       "      <th>tenure</th>\n",
       "      <th>MonthlyCharges</th>\n",
       "      <th>TotalCharges</th>\n",
       "    </tr>\n",
       "  </thead>\n",
       "  <tbody>\n",
       "    <tr>\n",
       "      <th>count</th>\n",
       "      <td>7043.000000</td>\n",
       "      <td>7043.000000</td>\n",
       "      <td>7032.000000</td>\n",
       "    </tr>\n",
       "    <tr>\n",
       "      <th>mean</th>\n",
       "      <td>32.435752</td>\n",
       "      <td>64.761692</td>\n",
       "      <td>2283.300441</td>\n",
       "    </tr>\n",
       "    <tr>\n",
       "      <th>std</th>\n",
       "      <td>25.075228</td>\n",
       "      <td>30.090047</td>\n",
       "      <td>2266.771362</td>\n",
       "    </tr>\n",
       "    <tr>\n",
       "      <th>min</th>\n",
       "      <td>0.000000</td>\n",
       "      <td>18.250000</td>\n",
       "      <td>18.800000</td>\n",
       "    </tr>\n",
       "    <tr>\n",
       "      <th>25%</th>\n",
       "      <td>9.000000</td>\n",
       "      <td>35.500000</td>\n",
       "      <td>401.450000</td>\n",
       "    </tr>\n",
       "    <tr>\n",
       "      <th>50%</th>\n",
       "      <td>29.000000</td>\n",
       "      <td>70.350000</td>\n",
       "      <td>1397.475000</td>\n",
       "    </tr>\n",
       "    <tr>\n",
       "      <th>75%</th>\n",
       "      <td>55.000000</td>\n",
       "      <td>89.850000</td>\n",
       "      <td>3794.737500</td>\n",
       "    </tr>\n",
       "    <tr>\n",
       "      <th>max</th>\n",
       "      <td>458.000000</td>\n",
       "      <td>118.750000</td>\n",
       "      <td>8684.800000</td>\n",
       "    </tr>\n",
       "  </tbody>\n",
       "</table>\n",
       "</div>"
      ],
      "text/plain": [
       "            tenure  MonthlyCharges  TotalCharges\n",
       "count  7043.000000     7043.000000   7032.000000\n",
       "mean     32.435752       64.761692   2283.300441\n",
       "std      25.075228       30.090047   2266.771362\n",
       "min       0.000000       18.250000     18.800000\n",
       "25%       9.000000       35.500000    401.450000\n",
       "50%      29.000000       70.350000   1397.475000\n",
       "75%      55.000000       89.850000   3794.737500\n",
       "max     458.000000      118.750000   8684.800000"
      ]
     },
     "execution_count": 13,
     "metadata": {},
     "output_type": "execute_result"
    }
   ],
   "source": [
    "# Описательная статистика\n",
    "df_pandas_num.describe()"
   ]
  },
  {
   "cell_type": "markdown",
   "metadata": {
    "id": "PZgNnbgnNtTe"
   },
   "source": [
    "Посмотрим как распределены числовые признаки"
   ]
  },
  {
   "cell_type": "code",
   "execution_count": 14,
   "metadata": {
    "ExecuteTime": {
     "end_time": "2023-07-10T11:31:16.018500Z",
     "start_time": "2023-07-10T11:31:15.438869Z"
    },
    "colab": {
     "base_uri": "https://localhost:8080/",
     "height": 974
    },
    "id": "gizkvQ3oNsuo",
    "outputId": "f56ba6ed-3112-42cb-845f-a637ae4c8489",
    "scrolled": false
   },
   "outputs": [
    {
     "data": {
      "image/png": "[encoded data removed]",
      "text/plain": [
       "<Figure size 900x500 with 4 Axes>"
      ]
     },
     "metadata": {},
     "output_type": "display_data"
    }
   ],
   "source": [
    "fig = plt.Figure(figsize=(15, 10))\n",
    "ax = fig.gca()\n",
    "\n",
    "\n",
    "df_pandas_num.hist(figsize=(9, 5), color='skyblue', edgecolor='black', linewidth=1.5, alpha=0.8); \n",
    "ax.set_facecolor('white')\n",
    "plt.suptitle('Гистограммы числовых признаков', fontsize=20)\n",
    "plt.tight_layout() \n",
    "plt.show()"
   ]
  },
  {
   "cell_type": "markdown",
   "metadata": {},
   "source": [
    "Графики показывают, что распределение признака tenure содержит выбросы.\n",
    "\n",
    "Далее посмотрим как коррелируют наши переменные "
   ]
  },
  {
   "cell_type": "code",
   "execution_count": 15,
   "metadata": {
    "ExecuteTime": {
     "end_time": "2023-07-10T11:31:17.013014Z",
     "start_time": "2023-07-10T11:31:16.765369Z"
    },
    "colab": {
     "base_uri": "https://localhost:8080/",
     "height": 143
    },
    "id": "ldNx2GuVrvAR",
    "outputId": "ae29ba81-c8bb-4b06-83f3-e9338143f7fc"
   },
   "outputs": [
    {
     "data": {
      "image/png": "[encoded data removed]",
      "text/plain": [
       "<Figure size 1300x600 with 2 Axes>"
      ]
     },
     "metadata": {},
     "output_type": "display_data"
    }
   ],
   "source": [
    "plt.figure(figsize=(13, 6))\n",
    "sns.heatmap(df_pandas_num.corr(), annot=True, vmin=-1, vmax=1, fmt=\".2f\", cmap=\"Spectral\")\n",
    "plt.show();"
   ]
  },
  {
   "cell_type": "code",
   "execution_count": 21,
   "metadata": {
    "ExecuteTime": {
     "end_time": "2023-07-10T11:31:49.096520Z",
     "start_time": "2023-07-10T11:31:45.502668Z"
    },
    "colab": {
     "base_uri": "https://localhost:8080/"
    },
    "id": "pgXj3fjJb0th",
    "outputId": "2caa145f-55b2-4dae-a297-e74a8ea857d6",
    "scrolled": false
   },
   "outputs": [
    {
     "name": "stdout",
     "output_type": "stream",
     "text": [
      "+---------------------------+\n",
      "|Unique values in customerID|\n",
      "+---------------------------+\n",
      "|                       7043|\n",
      "+---------------------------+\n",
      "\n",
      "+-----------------------+\n",
      "|Unique values in gender|\n",
      "+-----------------------+\n",
      "|                      2|\n",
      "+-----------------------+\n",
      "\n",
      "+------------------------------+\n",
      "|Unique values in SeniorCitizen|\n",
      "+------------------------------+\n",
      "|                             2|\n",
      "+------------------------------+\n",
      "\n",
      "+------------------------+\n",
      "|Unique values in Partner|\n",
      "+------------------------+\n",
      "|                       2|\n",
      "+------------------------+\n",
      "\n",
      "+---------------------------+\n",
      "|Unique values in Dependents|\n",
      "+---------------------------+\n",
      "|                          2|\n",
      "+---------------------------+\n",
      "\n",
      "+-----------------------------+\n",
      "|Unique values in PhoneService|\n",
      "+-----------------------------+\n",
      "|                            2|\n",
      "+-----------------------------+\n",
      "\n",
      "+------------------------------+\n",
      "|Unique values in MultipleLines|\n",
      "+------------------------------+\n",
      "|                             3|\n",
      "+------------------------------+\n",
      "\n",
      "+--------------------------------+\n",
      "|Unique values in InternetService|\n",
      "+--------------------------------+\n",
      "|                               3|\n",
      "+--------------------------------+\n",
      "\n",
      "+-------------------------------+\n",
      "|Unique values in OnlineSecurity|\n",
      "+-------------------------------+\n",
      "|                              3|\n",
      "+-------------------------------+\n",
      "\n",
      "+-----------------------------+\n",
      "|Unique values in OnlineBackup|\n",
      "+-----------------------------+\n",
      "|                            3|\n",
      "+-----------------------------+\n",
      "\n",
      "+---------------------------------+\n",
      "|Unique values in DeviceProtection|\n",
      "+---------------------------------+\n",
      "|                                3|\n",
      "+---------------------------------+\n",
      "\n",
      "+----------------------------+\n",
      "|Unique values in TechSupport|\n",
      "+----------------------------+\n",
      "|                           3|\n",
      "+----------------------------+\n",
      "\n",
      "+----------------------------+\n",
      "|Unique values in StreamingTV|\n",
      "+----------------------------+\n",
      "|                           3|\n",
      "+----------------------------+\n",
      "\n",
      "+--------------------------------+\n",
      "|Unique values in StreamingMovies|\n",
      "+--------------------------------+\n",
      "|                               3|\n",
      "+--------------------------------+\n",
      "\n",
      "+-------------------------+\n",
      "|Unique values in Contract|\n",
      "+-------------------------+\n",
      "|                        3|\n",
      "+-------------------------+\n",
      "\n",
      "+---------------------------------+\n",
      "|Unique values in PaperlessBilling|\n",
      "+---------------------------------+\n",
      "|                                2|\n",
      "+---------------------------------+\n",
      "\n",
      "+------------------------------+\n",
      "|Unique values in PaymentMethod|\n",
      "+------------------------------+\n",
      "|                             4|\n",
      "+------------------------------+\n",
      "\n",
      "+----------------------+\n",
      "|Unique values in Churn|\n",
      "+----------------------+\n",
      "|                     2|\n",
      "+----------------------+\n",
      "\n"
     ]
    }
   ],
   "source": [
    "cat_cols = [column for column, dtype in df.dtypes if dtype == 'string']\n",
    "\n",
    "# Для каждой категориальной колонки считаем количество уникальных значений и выводим результат\n",
    "for col in cat_cols:\n",
    "    df.select(countDistinct(col).alias(f'Unique values in {col}')).show()\n"
   ]
  },
  {
   "cell_type": "markdown",
   "metadata": {
    "id": "WcTLE0ZdS-so"
   },
   "source": [
    "# **Data Preprocessing**\n",
    "- Заполнение пропущеных значений\n",
    "- Удалене выбросов"
   ]
  },
  {
   "cell_type": "markdown",
   "metadata": {
    "id": "bDKvkUiwzt_H"
   },
   "source": [
    "**Заполнение пропущеных значений**\n",
    "\n",
    "Так как распределение смещено вправо заполним значение медианой либо с помощью KNN Imputer"
   ]
  },
  {
   "cell_type": "code",
   "execution_count": 22,
   "metadata": {
    "ExecuteTime": {
     "end_time": "2023-07-10T11:31:51.431784Z",
     "start_time": "2023-07-10T11:31:51.285652Z"
    },
    "id": "ABZfAKxRS3CN"
   },
   "outputs": [],
   "source": [
    "imputer = Imputer(inputCols=['TotalCharges'], outputCols=['TotalCharges']).setStrategy('median')\n",
    "imputer = imputer.fit(df)\n"
   ]
  },
  {
   "cell_type": "code",
   "execution_count": 23,
   "metadata": {
    "ExecuteTime": {
     "end_time": "2023-07-10T11:31:51.886038Z",
     "start_time": "2023-07-10T11:31:51.787651Z"
    },
    "id": "lqBhbzyNzyFs"
   },
   "outputs": [],
   "source": [
    "# Заполним пропуски \n",
    "data = imputer.transform(df)"
   ]
  },
  {
   "cell_type": "markdown",
   "metadata": {
    "id": "8fKFfw2G0A4j"
   },
   "source": [
    "Заново проверим пропущеные значения что бы понят сработал ли `Imputer` "
   ]
  },
  {
   "cell_type": "code",
   "execution_count": 27,
   "metadata": {
    "ExecuteTime": {
     "end_time": "2023-07-10T11:32:02.881839Z",
     "start_time": "2023-07-10T11:32:02.695354Z"
    },
    "colab": {
     "base_uri": "https://localhost:8080/"
    },
    "id": "LscLsydL0Dg_",
    "outputId": "7ce07901-f7c6-4b85-f373-825dfff84d05"
   },
   "outputs": [
    {
     "name": "stdout",
     "output_type": "stream",
     "text": [
      "+------------+\n",
      "|TotalCharges|\n",
      "+------------+\n",
      "|           0|\n",
      "+------------+\n",
      "\n"
     ]
    }
   ],
   "source": [
    "data.select(count(when(col('TotalCharges').isNull(), 'TotalCharges')).alias('TotalCharges')).show()\n"
   ]
  },
  {
   "cell_type": "markdown",
   "metadata": {
    "id": "g9JJoI4_1Ao5"
   },
   "source": [
    "**Удалим выбросы выявленные ранее на графике tenure**"
   ]
  },
  {
   "cell_type": "code",
   "execution_count": 28,
   "metadata": {
    "ExecuteTime": {
     "end_time": "2023-07-10T11:32:07.945338Z",
     "start_time": "2023-07-10T11:32:07.788365Z"
    },
    "colab": {
     "base_uri": "https://localhost:8080/"
    },
    "id": "GuUgYzfM1ICN",
    "outputId": "2ab253ce-9a55-449f-c1c0-c8e8bd12543c"
   },
   "outputs": [
    {
     "name": "stdout",
     "output_type": "stream",
     "text": [
      "+------+\n",
      "|tenure|\n",
      "+------+\n",
      "|   458|\n",
      "+------+\n",
      "\n"
     ]
    }
   ],
   "source": [
    "data.select('tenure').where(data.tenure > 100).show()"
   ]
  },
  {
   "cell_type": "markdown",
   "metadata": {},
   "source": [
    "Всего 1 выброс поэтому смело можем его удалять"
   ]
  },
  {
   "cell_type": "code",
   "execution_count": 29,
   "metadata": {
    "ExecuteTime": {
     "end_time": "2023-07-10T11:32:08.550141Z",
     "start_time": "2023-07-10T11:32:08.533837Z"
    },
    "colab": {
     "base_uri": "https://localhost:8080/"
    },
    "id": "ANT7iLlB2Et5",
    "outputId": "546823e5-cfc3-4b2b-f335-8e5220efedf8"
   },
   "outputs": [],
   "source": [
    "data = data.filter(data.tenure < 100)"
   ]
  },
  {
   "cell_type": "markdown",
   "metadata": {
    "id": "CQMD4VIuPDen"
   },
   "source": [
    "# **Feature Preparation**\n",
    "\n",
    "- Числовые признаки \n",
    "    - Vector Assembling\n",
    "    - Numerical Scaling\n",
    "- Категориальные признаки\n",
    "    - String Indexing\n",
    "    - Vector Assembling\n",
    "\n",
    "- Объединение векторов числовых и категориальных признаков\n",
    "\n",
    "**Подготовка признаков - Числовые признаки** <br>\n",
    "\n",
    "`Сборка векторов --> Стандартное масштабирование` <br>\n",
    "\n",
    "**Сборка векторов** <br>\n",
    "Для применения нашей нам нужно объединить все наши числовые и категориальные признаки в векторы. Пока давайте создадим вектор признаков для наших числовых колонок.\n"
   ]
  },
  {
   "cell_type": "code",
   "execution_count": 30,
   "metadata": {
    "ExecuteTime": {
     "end_time": "2023-07-10T11:32:09.234550Z",
     "start_time": "2023-07-10T11:32:09.218682Z"
    }
   },
   "outputs": [
    {
     "data": {
      "text/plain": [
       "['tenure', 'MonthlyCharges', 'TotalCharges']"
      ]
     },
     "execution_count": 30,
     "metadata": {},
     "output_type": "execute_result"
    }
   ],
   "source": [
    "numerical_list"
   ]
  },
  {
   "cell_type": "code",
   "execution_count": 31,
   "metadata": {
    "ExecuteTime": {
     "end_time": "2023-07-10T11:32:10.652837Z",
     "start_time": "2023-07-10T11:32:10.018992Z"
    },
    "colab": {
     "base_uri": "https://localhost:8080/"
    },
    "id": "7_g7Hu3HPC9Q",
    "outputId": "97777af8-b505-4711-fddd-fbf851c3feca",
    "scrolled": true
   },
   "outputs": [
    {
     "name": "stdout",
     "output_type": "stream",
     "text": [
      "+-------------------------+\n",
      "|numerical_features_vector|\n",
      "+-------------------------+\n",
      "|        [1.0,29.85,29.85]|\n",
      "|      [34.0,56.95,1889.5]|\n",
      "|       [2.0,53.85,108.15]|\n",
      "|      [45.0,42.3,1840.75]|\n",
      "|        [2.0,70.7,151.65]|\n",
      "|        [8.0,99.65,820.5]|\n",
      "|       [22.0,89.1,1949.4]|\n",
      "|       [10.0,29.75,301.9]|\n",
      "|     [28.0,104.8,3046.05]|\n",
      "|     [62.0,56.15,3487.95]|\n",
      "+-------------------------+\n",
      "only showing top 10 rows\n",
      "\n"
     ]
    }
   ],
   "source": [
    "numerical_vector_assenbler = VectorAssembler(inputCols=numerical_list, outputCol='numerical_features_vector')\n",
    "data = numerical_vector_assenbler.transform(data)\n",
    "data.select('numerical_features_vector').show(10)"
   ]
  },
  {
   "cell_type": "markdown",
   "metadata": {
    "id": "U39MK-kfYnpc"
   },
   "source": [
    "\n",
    "**Масштабирование чисел** <br>\n",
    "Давайте стандартизируем все наши числовые признаки."
   ]
  },
  {
   "cell_type": "code",
   "execution_count": 32,
   "metadata": {
    "ExecuteTime": {
     "end_time": "2023-07-10T11:32:12.172627Z",
     "start_time": "2023-07-10T11:32:11.558138Z"
    },
    "colab": {
     "base_uri": "https://localhost:8080/"
    },
    "id": "RqvD874WSQEs",
    "outputId": "8ea4e461-a1a1-4f5a-8273-6daa88eeb2d1"
   },
   "outputs": [],
   "source": [
    "scaler = StandardScaler(\n",
    "    inputCol='numerical_features_vector',\n",
    "    outputCol='numerical_features_scaled',\n",
    "    withStd=True,\n",
    "    withMean=True\n",
    ")\n",
    "data = scaler.fit(data).transform(data)"
   ]
  },
  {
   "cell_type": "code",
   "execution_count": 33,
   "metadata": {
    "ExecuteTime": {
     "end_time": "2023-07-10T11:32:13.093741Z",
     "start_time": "2023-07-10T11:32:12.741225Z"
    }
   },
   "outputs": [
    {
     "data": {
      "text/plain": [
       "[Row(numerical_features_scaled=DenseVector([-1.2776, -1.1601, -0.9943])),\n",
       " Row(numerical_features_scaled=DenseVector([0.0662, -0.2595, -0.1734]))]"
      ]
     },
     "execution_count": 33,
     "metadata": {},
     "output_type": "execute_result"
    }
   ],
   "source": [
    "data.select('numerical_features_scaled').collect()[:2]"
   ]
  },
  {
   "cell_type": "markdown",
   "metadata": {
    "id": "KfbVsiv6Z1SM"
   },
   "source": [
    "**Подготовка признаков - Категориальные признаки** <br>\n",
    "\n",
    "`String Indexing --> Vector Assembling` <br>\n",
    "\n",
    "**String Indexing** <br>\n",
    "Нам нужно преобразовать все строковые колонки в числовые колонки."
   ]
  },
  {
   "cell_type": "code",
   "execution_count": 34,
   "metadata": {
    "ExecuteTime": {
     "end_time": "2023-07-10T11:32:15.058989Z",
     "start_time": "2023-07-10T11:32:13.958253Z"
    },
    "colab": {
     "base_uri": "https://localhost:8080/"
    },
    "id": "U7xmubmpZ1zo",
    "outputId": "648ec4c6-11e1-4861-d132-b29b414882c4",
    "scrolled": false
   },
   "outputs": [],
   "source": [
    "categorical_columns_index = [name + '_Indexed' for name in string_list]\n",
    "\n",
    "\n",
    "indexer = StringIndexer(\n",
    "    inputCols=string_list,\n",
    "    outputCols=categorical_columns_index\n",
    ")\n",
    "\n",
    "data = indexer.fit(data).transform(data)\n"
   ]
  },
  {
   "cell_type": "markdown",
   "metadata": {
    "id": "566hiGhl_1m0"
   },
   "source": [
    "Давайте объединим все наши категориальные признаки в один вектор признаков."
   ]
  },
  {
   "cell_type": "code",
   "execution_count": 35,
   "metadata": {
    "ExecuteTime": {
     "end_time": "2023-07-10T11:32:16.281226Z",
     "start_time": "2023-07-10T11:32:15.525752Z"
    },
    "colab": {
     "base_uri": "https://localhost:8080/"
    },
    "id": "Uh0qcHDb6q8t",
    "outputId": "a11c2930-1388-4844-b5f5-b36b093ea034"
   },
   "outputs": [
    {
     "data": {
      "text/plain": [
       "[Row(Categorical_features_vector=SparseVector(16, {0: 1.0, 2: 1.0, 4: 1.0, 5: 2.0, 6: 1.0, 8: 1.0})),\n",
       " Row(Categorical_features_vector=SparseVector(16, {6: 1.0, 7: 1.0, 9: 1.0, 13: 2.0, 14: 1.0, 15: 1.0})),\n",
       " Row(Categorical_features_vector=SparseVector(16, {6: 1.0, 7: 1.0, 8: 1.0, 15: 1.0})),\n",
       " Row(Categorical_features_vector=SparseVector(16, {4: 1.0, 5: 2.0, 6: 1.0, 7: 1.0, 9: 1.0, 10: 1.0, 13: 2.0, 14: 1.0, 15: 2.0})),\n",
       " Row(Categorical_features_vector=SparseVector(16, {0: 1.0}))]"
      ]
     },
     "execution_count": 35,
     "metadata": {},
     "output_type": "execute_result"
    }
   ],
   "source": [
    "categorical_columns_index.remove('customerID_Indexed') # бесполезный признак\n",
    "categorical_columns_index.remove('Churn_Indexed') # таргет\n",
    "\n",
    "\n",
    "categorical_features_assembler = VectorAssembler(\n",
    "    inputCols=categorical_columns_index,\n",
    "    outputCol='Categorical_features_vector'\n",
    ")\n",
    "\n",
    "data = categorical_features_assembler.transform(data)\n",
    "\n",
    "data.select('Categorical_features_vector').collect()[:5]"
   ]
  },
  {
   "cell_type": "markdown",
   "metadata": {
    "id": "4G0bVH-vALJt"
   },
   "source": [
    "**Объеденим числовые векторы и категориалные**"
   ]
  },
  {
   "cell_type": "code",
   "execution_count": 36,
   "metadata": {
    "ExecuteTime": {
     "end_time": "2023-07-10T11:32:17.836447Z",
     "start_time": "2023-07-10T11:32:17.543255Z"
    },
    "colab": {
     "base_uri": "https://localhost:8080/"
    },
    "id": "UrsFk-CZZgrV",
    "outputId": "0d36be9b-0157-4f42-e115-8da195881620"
   },
   "outputs": [
    {
     "name": "stdout",
     "output_type": "stream",
     "text": [
      "+---------------------+\n",
      "|final_features_vector|\n",
      "+---------------------+\n",
      "| (19,[0,2,4,5,6,8,...|\n",
      "| (19,[6,7,9,13,14,...|\n",
      "| (19,[6,7,8,15,16,...|\n",
      "| [0.0,0.0,0.0,0.0,...|\n",
      "| (19,[0,16,17,18],...|\n",
      "+---------------------+\n",
      "only showing top 5 rows\n",
      "\n"
     ]
    }
   ],
   "source": [
    "finall_vector_assembler = VectorAssembler(\n",
    "    inputCols=[\n",
    "        'Categorical_features_vector',\n",
    "        'numerical_features_scaled'\n",
    "    ],\n",
    "    outputCol='final_features_vector'\n",
    ")\n",
    "\n",
    "data = finall_vector_assembler.transform(data)\n",
    "\n",
    "data.select('final_features_vector').show(5)"
   ]
  },
  {
   "cell_type": "code",
   "execution_count": 37,
   "metadata": {
    "ExecuteTime": {
     "end_time": "2023-07-10T11:32:18.808403Z",
     "start_time": "2023-07-10T11:32:18.163665Z"
    }
   },
   "outputs": [
    {
     "data": {
      "text/plain": [
       "[Row(final_features_vector=SparseVector(19, {0: 1.0, 2: 1.0, 4: 1.0, 5: 2.0, 6: 1.0, 8: 1.0, 16: -1.2776, 17: -1.1601, 18: -0.9943})),\n",
       " Row(final_features_vector=SparseVector(19, {6: 1.0, 7: 1.0, 9: 1.0, 13: 2.0, 14: 1.0, 15: 1.0, 16: 0.0662, 17: -0.2595, 18: -0.1734})),\n",
       " Row(final_features_vector=SparseVector(19, {6: 1.0, 7: 1.0, 8: 1.0, 15: 1.0, 16: -1.2368, 17: -0.3626, 18: -0.9597})),\n",
       " Row(final_features_vector=DenseVector([0.0, 0.0, 0.0, 0.0, 1.0, 2.0, 1.0, 1.0, 0.0, 1.0, 1.0, 0.0, 0.0, 2.0, 1.0, 2.0, 0.5141, -0.7464, -0.1949])),\n",
       " Row(final_features_vector=SparseVector(19, {0: 1.0, 16: -1.2368, 17: 0.1974, 18: -0.9405}))]"
      ]
     },
     "execution_count": 37,
     "metadata": {},
     "output_type": "execute_result"
    }
   ],
   "source": [
    "data.select('final_features_vector').collect()[:5]"
   ]
  },
  {
   "cell_type": "markdown",
   "metadata": {
    "id": "_og11F0MdrYE"
   },
   "source": [
    "# **Обучение модели**\n",
    "- Hold-out\n",
    "- Создание модели\n",
    "- Обучение модели\n",
    "- Сделать первоначальные прогнозы с помощью модели\n"
   ]
  },
  {
   "cell_type": "code",
   "execution_count": 38,
   "metadata": {
    "ExecuteTime": {
     "end_time": "2023-07-10T11:32:19.040491Z",
     "start_time": "2023-07-10T11:32:19.013498Z"
    },
    "colab": {
     "base_uri": "https://localhost:8080/"
    },
    "id": "8VFwkblddkdV",
    "outputId": "bde88d04-2ed7-43a2-9e6b-d343e6b6e81b"
   },
   "outputs": [],
   "source": [
    "train, test = data.randomSplit(seed=42, weights=[.7, .3])"
   ]
  },
  {
   "cell_type": "code",
   "execution_count": 39,
   "metadata": {
    "ExecuteTime": {
     "end_time": "2023-07-10T11:32:20.759700Z",
     "start_time": "2023-07-10T11:32:19.525738Z"
    }
   },
   "outputs": [
    {
     "name": "stdout",
     "output_type": "stream",
     "text": [
      "5036\n",
      "2006\n"
     ]
    }
   ],
   "source": [
    "print(train.count())\n",
    "print(test.count())"
   ]
  },
  {
   "cell_type": "markdown",
   "metadata": {
    "id": "aiAJrl8oEKIk"
   },
   "source": [
    "Тренировать будем дерево принятия решений"
   ]
  },
  {
   "cell_type": "code",
   "execution_count": 40,
   "metadata": {
    "ExecuteTime": {
     "end_time": "2023-07-10T11:32:24.528935Z",
     "start_time": "2023-07-10T11:32:21.307560Z"
    },
    "id": "bObhrM_4nKCf"
   },
   "outputs": [],
   "source": [
    "dt = DecisionTreeClassifier(\n",
    "    featuresCol='final_features_vector',\n",
    "    labelCol='Churn_Indexed',\n",
    "    maxDepth=10\n",
    ")\n",
    "model = dt.fit(train)"
   ]
  },
  {
   "cell_type": "markdown",
   "metadata": {
    "id": "cy_-7W2LEO9j"
   },
   "source": [
    "Посмотрим на предсказания нашего дерева"
   ]
  },
  {
   "cell_type": "code",
   "execution_count": 41,
   "metadata": {
    "ExecuteTime": {
     "end_time": "2023-07-10T11:32:25.542417Z",
     "start_time": "2023-07-10T11:32:24.989721Z"
    },
    "colab": {
     "base_uri": "https://localhost:8080/"
    },
    "id": "AqU9-y6dEOqq",
    "outputId": "67be60e9-f5c5-4f39-fcfb-1ff153ecff22"
   },
   "outputs": [
    {
     "name": "stdout",
     "output_type": "stream",
     "text": [
      "+-----+----------+\n",
      "|Churn|prediction|\n",
      "+-----+----------+\n",
      "|  Yes|       0.0|\n",
      "|   No|       0.0|\n",
      "|   No|       1.0|\n",
      "|   No|       0.0|\n",
      "|   No|       0.0|\n",
      "|   No|       0.0|\n",
      "|   No|       0.0|\n",
      "|  Yes|       1.0|\n",
      "|  Yes|       1.0|\n",
      "|   No|       0.0|\n",
      "|  Yes|       0.0|\n",
      "|   No|       0.0|\n",
      "|   No|       0.0|\n",
      "|   No|       0.0|\n",
      "|   No|       0.0|\n",
      "|   No|       0.0|\n",
      "|   No|       0.0|\n",
      "|   No|       0.0|\n",
      "|   No|       0.0|\n",
      "|   No|       0.0|\n",
      "+-----+----------+\n",
      "only showing top 20 rows\n",
      "\n"
     ]
    }
   ],
   "source": [
    "prediction_test = model.transform(test)\n",
    "prediction_test.select(['Churn', 'prediction']).show()"
   ]
  },
  {
   "cell_type": "markdown",
   "metadata": {
    "id": "sZXX1rqz8hoT"
   },
   "source": [
    "#  **Оценка модели**\n",
    "- Вычисление площади под кривой ROC для `test` выборки\n",
    "- Вычисление площади под кривой ROC для `training` выборки\n",
    "- Подбор гиперпараметров"
   ]
  },
  {
   "cell_type": "code",
   "execution_count": 42,
   "metadata": {
    "ExecuteTime": {
     "end_time": "2023-07-10T11:32:26.949073Z",
     "start_time": "2023-07-10T11:32:26.211290Z"
    },
    "colab": {
     "base_uri": "https://localhost:8080/"
    },
    "id": "V8Ldw-rno18o",
    "outputId": "57f300dc-9763-4817-c5e2-a107456061cc"
   },
   "outputs": [
    {
     "data": {
      "text/plain": [
       "0.6928233066428843"
      ]
     },
     "execution_count": 42,
     "metadata": {},
     "output_type": "execute_result"
    }
   ],
   "source": [
    "evaluetor = BinaryClassificationEvaluator(labelCol='Churn_Indexed')\n",
    "auc_test = evaluetor.evaluate(prediction_test, {evaluetor.metricName: 'areaUnderROC'})\n",
    "auc_test"
   ]
  },
  {
   "cell_type": "markdown",
   "metadata": {
    "id": "nXpG_p4BGEhq"
   },
   "source": [
    "Посмотрим на AUC `training` выборки\n",
    "\n",
    "Нужно узнать переобучаемся мы или нет"
   ]
  },
  {
   "cell_type": "code",
   "execution_count": 43,
   "metadata": {
    "ExecuteTime": {
     "end_time": "2023-07-10T11:32:28.531038Z",
     "start_time": "2023-07-10T11:32:27.821067Z"
    },
    "colab": {
     "base_uri": "https://localhost:8080/"
    },
    "id": "LVkrmoC8GErZ",
    "outputId": "7446fa6f-7d62-411f-bf7b-16f2dd2c35fa"
   },
   "outputs": [
    {
     "data": {
      "text/plain": [
       "0.777886778516578"
      ]
     },
     "execution_count": 43,
     "metadata": {},
     "output_type": "execute_result"
    }
   ],
   "source": [
    "predictors_train = model.transform(train)\n",
    "auc_train = evaluetor.evaluate(predictors_train, {evaluetor.metricName: 'areaUnderROC'})\n",
    "auc_train"
   ]
  },
  {
   "cell_type": "markdown",
   "metadata": {
    "id": "HH4ZH3yFHbvS"
   },
   "source": [
    "**Подбор гиперпараметров**\n",
    "\n",
    "Найдем оптимальный `maxDepth` для нашего дерева. "
   ]
  },
  {
   "cell_type": "code",
   "execution_count": 44,
   "metadata": {
    "ExecuteTime": {
     "end_time": "2023-07-10T11:32:29.844853Z",
     "start_time": "2023-07-10T11:32:29.829351Z"
    },
    "id": "CwkzV8xLHNlE"
   },
   "outputs": [],
   "source": [
    "def evaluate_dt(mode_params):\n",
    "    test_accuracies = []\n",
    "    train_accuracies = []\n",
    "\n",
    "    for maxD in mode_params:\n",
    "        # тренируем\n",
    "        decision_tree = DecisionTreeClassifier(featuresCol = 'final_features_vector', labelCol = 'Churn_Indexed', maxDepth = maxD)\n",
    "        dtModel = decision_tree.fit(train)\n",
    "\n",
    "        # оцениваем тестовую выборку\n",
    "        predictions_test = dtModel.transform(test)\n",
    "        evaluator = BinaryClassificationEvaluator(labelCol=\"Churn_Indexed\")\n",
    "        auc_test = evaluator.evaluate(predictions_test, {evaluator.metricName: \"areaUnderROC\"}) \n",
    "        test_accuracies.append(auc_test)\n",
    "\n",
    "        # оцениваем обучающую выборку\n",
    "        predictions_training = dtModel.transform(train)\n",
    "        evaluator = BinaryClassificationEvaluator(labelCol=\"Churn_Indexed\")\n",
    "        auc_training = evaluator.evaluate(predictions_training, {evaluator.metricName: \"areaUnderROC\"})\n",
    "        train_accuracies.append(auc_training)\n",
    "\n",
    "    return(test_accuracies, train_accuracies)  "
   ]
  },
  {
   "cell_type": "code",
   "execution_count": 94,
   "metadata": {
    "ExecuteTime": {
     "end_time": "2023-07-09T13:30:59.786147Z",
     "start_time": "2023-07-09T13:30:27.344839Z"
    },
    "colab": {
     "base_uri": "https://localhost:8080/"
    },
    "id": "6rVz17-jIoVC",
    "outputId": "0a4f788a-d1b9-4862-fe75-12723cf56f31"
   },
   "outputs": [],
   "source": [
    "param = list(range(4, 27, 2))\n",
    "test_accuracies, train_accuracies = evaluate_dt(param)\n",
    "\n",
    "df_score = pd.DataFrame(\n",
    "    {\n",
    "        \"test_accuracies\": test_accuracies, \n",
    "        \"train_accuracies\": train_accuracies\n",
    "    },\n",
    "    index=param\n",
    ")\n"
   ]
  },
  {
   "cell_type": "code",
   "execution_count": 95,
   "metadata": {
    "ExecuteTime": {
     "end_time": "2023-07-09T13:31:01.539532Z",
     "start_time": "2023-07-09T13:31:01.497077Z"
    },
    "scrolled": true
   },
   "outputs": [
    {
     "data": {
      "text/html": [
       "<div>\n",
       "<style scoped>\n",
       "    .dataframe tbody tr th:only-of-type {\n",
       "        vertical-align: middle;\n",
       "    }\n",
       "\n",
       "    .dataframe tbody tr th {\n",
       "        vertical-align: top;\n",
       "    }\n",
       "\n",
       "    .dataframe thead th {\n",
       "        text-align: right;\n",
       "    }\n",
       "</style>\n",
       "<table border=\"1\" class=\"dataframe\">\n",
       "  <thead>\n",
       "    <tr style=\"text-align: right;\">\n",
       "      <th></th>\n",
       "      <th>4</th>\n",
       "      <th>6</th>\n",
       "      <th>8</th>\n",
       "      <th>10</th>\n",
       "      <th>12</th>\n",
       "      <th>14</th>\n",
       "      <th>16</th>\n",
       "      <th>18</th>\n",
       "      <th>20</th>\n",
       "      <th>22</th>\n",
       "      <th>24</th>\n",
       "      <th>26</th>\n",
       "    </tr>\n",
       "  </thead>\n",
       "  <tbody>\n",
       "    <tr>\n",
       "      <th>test_accuracies</th>\n",
       "      <td>0.673419</td>\n",
       "      <td>0.760421</td>\n",
       "      <td>0.732975</td>\n",
       "      <td>0.692823</td>\n",
       "      <td>0.730344</td>\n",
       "      <td>0.707598</td>\n",
       "      <td>0.700944</td>\n",
       "      <td>0.695779</td>\n",
       "      <td>0.690883</td>\n",
       "      <td>0.690505</td>\n",
       "      <td>0.690505</td>\n",
       "      <td>0.690505</td>\n",
       "    </tr>\n",
       "    <tr>\n",
       "      <th>train_accuracies</th>\n",
       "      <td>0.681312</td>\n",
       "      <td>0.773432</td>\n",
       "      <td>0.751254</td>\n",
       "      <td>0.777887</td>\n",
       "      <td>0.896351</td>\n",
       "      <td>0.942557</td>\n",
       "      <td>0.974039</td>\n",
       "      <td>0.989317</td>\n",
       "      <td>0.992707</td>\n",
       "      <td>0.993679</td>\n",
       "      <td>0.993747</td>\n",
       "      <td>0.993747</td>\n",
       "    </tr>\n",
       "  </tbody>\n",
       "</table>\n",
       "</div>"
      ],
      "text/plain": [
       "                        4         6         8         10        12        14  \\\n",
       "test_accuracies   0.673419  0.760421  0.732975  0.692823  0.730344  0.707598   \n",
       "train_accuracies  0.681312  0.773432  0.751254  0.777887  0.896351  0.942557   \n",
       "\n",
       "                        16        18        20        22        24        26  \n",
       "test_accuracies   0.700944  0.695779  0.690883  0.690505  0.690505  0.690505  \n",
       "train_accuracies  0.974039  0.989317  0.992707  0.993679  0.993747  0.993747  "
      ]
     },
     "execution_count": 95,
     "metadata": {},
     "output_type": "execute_result"
    }
   ],
   "source": [
    " df_score.T"
   ]
  },
  {
   "cell_type": "code",
   "execution_count": 96,
   "metadata": {
    "ExecuteTime": {
     "end_time": "2023-07-09T13:31:03.292104Z",
     "start_time": "2023-07-09T13:31:02.930214Z"
    }
   },
   "outputs": [
    {
     "data": {
      "image/png": "[encoded data removed]",
      "text/plain": [
       "<Figure size 1500x600 with 1 Axes>"
      ]
     },
     "metadata": {},
     "output_type": "display_data"
    }
   ],
   "source": [
    "plt.figure(figsize=(15, 6))\n",
    "plt.xlabel(\"maxDepth\")\n",
    "plt.ylabel(\"Аccuracy\")\n",
    "plt.title(\"Accuracy vs maxDepth\")\n",
    "plt.plot(param, train_accuracies, marker='o', label=\"train\", drawstyle=\"steps-post\", alpha=0.8)\n",
    "plt.plot(param, test_accuracies, marker='o', label=\"test\", drawstyle=\"steps-post\", alpha=0.8)\n",
    "plt.legend()\n",
    "plt.show();\n"
   ]
  },
  {
   "cell_type": "markdown",
   "metadata": {},
   "source": [
    "Заметим, что лучшее качество модели достигается при глубине дерева от 6 до 9.\n",
    "\n",
    "Чтобы еще больше повысить эффективность нашей модели, выполним поиск по сетке параметров."
   ]
  },
  {
   "cell_type": "code",
   "execution_count": 165,
   "metadata": {
    "ExecuteTime": {
     "end_time": "2023-07-09T17:25:26.406669Z",
     "start_time": "2023-07-09T17:25:26.386324Z"
    }
   },
   "outputs": [
    {
     "name": "stdout",
     "output_type": "stream",
     "text": [
      "Лучшие параметры:\n",
      "DecisionTreeClassifier_535e7e998c71__cacheNodeIds, False\n",
      "DecisionTreeClassifier_535e7e998c71__checkpointInterval, 10\n",
      "DecisionTreeClassifier_535e7e998c71__featuresCol, final_features_vector\n",
      "DecisionTreeClassifier_535e7e998c71__impurity, gini\n",
      "DecisionTreeClassifier_535e7e998c71__labelCol, Churn_Indexed\n",
      "DecisionTreeClassifier_535e7e998c71__leafCol, \n",
      "DecisionTreeClassifier_535e7e998c71__maxBins, 16\n",
      "DecisionTreeClassifier_535e7e998c71__maxDepth, 6\n",
      "DecisionTreeClassifier_535e7e998c71__maxMemoryInMB, 256\n",
      "DecisionTreeClassifier_535e7e998c71__minInfoGain, 0.0\n",
      "DecisionTreeClassifier_535e7e998c71__minInstancesPerNode, 1\n",
      "DecisionTreeClassifier_535e7e998c71__minWeightFractionPerNode, 0.0\n",
      "DecisionTreeClassifier_535e7e998c71__predictionCol, prediction\n",
      "DecisionTreeClassifier_535e7e998c71__probabilityCol, probability\n",
      "DecisionTreeClassifier_535e7e998c71__rawPredictionCol, rawPrediction\n",
      "DecisionTreeClassifier_535e7e998c71__seed, 7948698868042667494\n"
     ]
    }
   ],
   "source": [
    "decision_tree = DecisionTreeClassifier(featuresCol='final_features_vector', labelCol='Churn_Indexed')\n",
    "\n",
    "\n",
    "param_grid = ParamGridBuilder() \\\n",
    "    .addGrid(decision_tree.maxDepth, list(range(4, 27, 2))) \\\n",
    "    .addGrid(decision_tree.maxBins, [16, 32, 64]) \\\n",
    "    .addGrid(decision_tree.impurity, [\"gini\", \"entropy\"]) \\\n",
    "    .build()\n",
    "\n",
    "evaluator = BinaryClassificationEvaluator(rawPredictionCol=\"rawPrediction\", labelCol='Churn_Indexed')\n",
    "\n",
    "\n",
    "crossval = CrossValidator(\n",
    "    estimator=decision_tree,\n",
    "    estimatorParamMaps=param_grid,\n",
    "    evaluator=evaluator,\n",
    "    numFolds=5\n",
    ")\n",
    "\n",
    "cv_model = crossval.fit(train)\n",
    "\n",
    "best_params = cv_model.bestModel.extractParamMap()\n",
    "print(\"Лучшие параметры:\")\n",
    "for i, v in best_params.items():\n",
    "    print(f'{i}, {v}')\n",
    "\n"
   ]
  },
  {
   "cell_type": "code",
   "execution_count": 45,
   "metadata": {
    "ExecuteTime": {
     "end_time": "2023-07-10T11:32:40.683219Z",
     "start_time": "2023-07-10T11:32:38.294019Z"
    }
   },
   "outputs": [
    {
     "name": "stdout",
     "output_type": "stream",
     "text": [
      "0.7627186774979483\n"
     ]
    }
   ],
   "source": [
    "decision_tree = DecisionTreeClassifier(\n",
    "    featuresCol='final_features_vector',\n",
    "    labelCol='Churn_Indexed',\n",
    "    impurity='gini',\n",
    "    maxBins=16,\n",
    "    maxDepth=6\n",
    ")\n",
    "\n",
    "dtModel = decision_tree.fit(train)\n",
    "\n",
    "predictions_test = dtModel.transform(test)\n",
    "evaluator = BinaryClassificationEvaluator(labelCol=\"Churn_Indexed\")\n",
    "auc_test = evaluator.evaluate(predictions_test, {evaluator.metricName: \"areaUnderROC\"}) \n",
    "print(auc_test)"
   ]
  },
  {
   "cell_type": "markdown",
   "metadata": {},
   "source": [
    "   Так как задали немного параметров сильных улучшений мы не получили \n",
    "    поэтому перейдем к **Feature Impotarnces**"
   ]
  },
  {
   "cell_type": "markdown",
   "metadata": {
    "id": "koCUPBFUKDIZ"
   },
   "source": [
    "# **Feature Impotarnces**\n"
   ]
  },
  {
   "cell_type": "markdown",
   "metadata": {
    "id": "xomU5qnMUdWJ"
   },
   "source": [
    "Определим, какие признаки имеют наибольшее влияние на уход клиентов."
   ]
  },
  {
   "cell_type": "code",
   "execution_count": 46,
   "metadata": {
    "ExecuteTime": {
     "end_time": "2023-07-10T11:32:44.268904Z",
     "start_time": "2023-07-10T11:32:44.220693Z"
    },
    "colab": {
     "base_uri": "https://localhost:8080/",
     "height": 542
    },
    "id": "1FIFIqdLsAvq",
    "outputId": "ba7de309-8415-42dc-fba0-7712632d8509"
   },
   "outputs": [
    {
     "data": {
      "text/html": [
       "<div>\n",
       "<style scoped>\n",
       "    .dataframe tbody tr th:only-of-type {\n",
       "        vertical-align: middle;\n",
       "    }\n",
       "\n",
       "    .dataframe tbody tr th {\n",
       "        vertical-align: top;\n",
       "    }\n",
       "\n",
       "    .dataframe thead th {\n",
       "        text-align: right;\n",
       "    }\n",
       "</style>\n",
       "<table border=\"1\" class=\"dataframe\">\n",
       "  <thead>\n",
       "    <tr style=\"text-align: right;\">\n",
       "      <th></th>\n",
       "      <th>score</th>\n",
       "    </tr>\n",
       "  </thead>\n",
       "  <tbody>\n",
       "    <tr>\n",
       "      <th>gender_Indexed</th>\n",
       "      <td>0.032629</td>\n",
       "    </tr>\n",
       "    <tr>\n",
       "      <th>SeniorCitizen_Indexed</th>\n",
       "      <td>0.016864</td>\n",
       "    </tr>\n",
       "    <tr>\n",
       "      <th>Partner_Indexed</th>\n",
       "      <td>0.020378</td>\n",
       "    </tr>\n",
       "    <tr>\n",
       "      <th>Dependents_Indexed</th>\n",
       "      <td>0.016451</td>\n",
       "    </tr>\n",
       "    <tr>\n",
       "      <th>PhoneService_Indexed</th>\n",
       "      <td>0.010518</td>\n",
       "    </tr>\n",
       "    <tr>\n",
       "      <th>MultipleLines_Indexed</th>\n",
       "      <td>0.014318</td>\n",
       "    </tr>\n",
       "    <tr>\n",
       "      <th>InternetService_Indexed</th>\n",
       "      <td>0.089774</td>\n",
       "    </tr>\n",
       "    <tr>\n",
       "      <th>OnlineSecurity_Indexed</th>\n",
       "      <td>0.030045</td>\n",
       "    </tr>\n",
       "    <tr>\n",
       "      <th>OnlineBackup_Indexed</th>\n",
       "      <td>0.018950</td>\n",
       "    </tr>\n",
       "    <tr>\n",
       "      <th>DeviceProtection_Indexed</th>\n",
       "      <td>0.017576</td>\n",
       "    </tr>\n",
       "    <tr>\n",
       "      <th>TechSupport_Indexed</th>\n",
       "      <td>0.014590</td>\n",
       "    </tr>\n",
       "    <tr>\n",
       "      <th>StreamingTV_Indexed</th>\n",
       "      <td>0.017322</td>\n",
       "    </tr>\n",
       "    <tr>\n",
       "      <th>StreamingMovies_Indexed</th>\n",
       "      <td>0.018302</td>\n",
       "    </tr>\n",
       "    <tr>\n",
       "      <th>Contract_Indexed</th>\n",
       "      <td>0.310365</td>\n",
       "    </tr>\n",
       "    <tr>\n",
       "      <th>PaperlessBilling_Indexed</th>\n",
       "      <td>0.029850</td>\n",
       "    </tr>\n",
       "    <tr>\n",
       "      <th>PaymentMethod_Indexed</th>\n",
       "      <td>0.046332</td>\n",
       "    </tr>\n",
       "    <tr>\n",
       "      <th>tenure</th>\n",
       "      <td>0.176373</td>\n",
       "    </tr>\n",
       "    <tr>\n",
       "      <th>MonthlyCharges</th>\n",
       "      <td>0.081291</td>\n",
       "    </tr>\n",
       "    <tr>\n",
       "      <th>TotalCharges</th>\n",
       "      <td>0.038073</td>\n",
       "    </tr>\n",
       "  </tbody>\n",
       "</table>\n",
       "</div>"
      ],
      "text/plain": [
       "                             score\n",
       "gender_Indexed            0.032629\n",
       "SeniorCitizen_Indexed     0.016864\n",
       "Partner_Indexed           0.020378\n",
       "Dependents_Indexed        0.016451\n",
       "PhoneService_Indexed      0.010518\n",
       "MultipleLines_Indexed     0.014318\n",
       "InternetService_Indexed   0.089774\n",
       "OnlineSecurity_Indexed    0.030045\n",
       "OnlineBackup_Indexed      0.018950\n",
       "DeviceProtection_Indexed  0.017576\n",
       "TechSupport_Indexed       0.014590\n",
       "StreamingTV_Indexed       0.017322\n",
       "StreamingMovies_Indexed   0.018302\n",
       "Contract_Indexed          0.310365\n",
       "PaperlessBilling_Indexed  0.029850\n",
       "PaymentMethod_Indexed     0.046332\n",
       "tenure                    0.176373\n",
       "MonthlyCharges            0.081291\n",
       "TotalCharges              0.038073"
      ]
     },
     "execution_count": 46,
     "metadata": {},
     "output_type": "execute_result"
    }
   ],
   "source": [
    "feature_impotarnces = dtModel.featureImportances\n",
    "scores = [score for i, score in enumerate(feature_impotarnces)]\n",
    "df_features = pd.DataFrame(scores, columns=['score'], index=categorical_columns_index + numerical_list)\n",
    "df_features"
   ]
  },
  {
   "cell_type": "markdown",
   "metadata": {
    "id": "n_FrIiJwWuwg"
   },
   "source": [
    "давайте визуализируем результат"
   ]
  },
  {
   "cell_type": "code",
   "execution_count": 47,
   "metadata": {
    "ExecuteTime": {
     "end_time": "2023-07-10T11:32:51.147003Z",
     "start_time": "2023-07-10T11:32:50.719395Z"
    },
    "colab": {
     "base_uri": "https://localhost:8080/",
     "height": 542
    },
    "id": "V4eObw2aK7Qp",
    "outputId": "f824121b-15c7-4045-a0b5-0f4549ca2eea",
    "scrolled": false
   },
   "outputs": [
    {
     "data": {
      "image/png": "[encoded data removed]",
      "text/plain": [
       "<Figure size 2400x1000 with 1 Axes>"
      ]
     },
     "metadata": {},
     "output_type": "display_data"
    }
   ],
   "source": [
    "plt.figure(figsize=(24, 10))\n",
    "sns.barplot(data=df_features.T, palette=\"Set2\", edgecolor=\"black\")\n",
    "\n",
    "# Добавляем заголовок и подписи осей\n",
    "plt.title(\"Важность признаков для предсказания оттока клиентов\")\n",
    "plt.ylabel(\"Вклад признака\")\n",
    "plt.xticks(rotation=45)\n",
    "plt.show();\n",
    "\n"
   ]
  },
  {
   "cell_type": "code",
   "execution_count": 48,
   "metadata": {
    "ExecuteTime": {
     "end_time": "2023-07-10T11:33:01.106175Z",
     "start_time": "2023-07-10T11:33:00.765671Z"
    }
   },
   "outputs": [],
   "source": [
    "df_Contract = data.groupby(['Contract', 'Churn']).count().toPandas()"
   ]
  },
  {
   "cell_type": "code",
   "execution_count": 49,
   "metadata": {
    "ExecuteTime": {
     "end_time": "2023-07-10T11:33:01.623585Z",
     "start_time": "2023-07-10T11:33:01.380307Z"
    }
   },
   "outputs": [
    {
     "data": {
      "image/png": "[encoded data removed]",
      "text/plain": [
       "<Figure size 640x480 with 1 Axes>"
      ]
     },
     "metadata": {},
     "output_type": "display_data"
    }
   ],
   "source": [
    "sns.barplot(data=df_Contract, x='Contract', y='count', hue='Churn', palette='Set2', dodge=False);"
   ]
  },
  {
   "cell_type": "markdown",
   "metadata": {
    "id": "MhaY0_iA6pp1"
   },
   "source": [
    "На столбчатой диаграмме отображается количество привлеченных клиентов в зависимости от типа их контракта. Очевидно, что клиенты с контрактом \"от месяца к месяцу\" имеют более высокий уровень оттока по сравнению с клиентами с контрактами \"на один год\" или \"на два года\". В качестве рекомендации телекоммуникационная компания могла бы рассмотреть возможность предоставления льгот или скидок, чтобы побудить клиентов с ежемесячными контрактами переходить на более долгосрочные контракты."
   ]
  },
  {
   "cell_type": "markdown",
   "metadata": {},
   "source": [
    "# CatBoost Spark\n",
    "- Перейдем к созданию более мощного алгоритма"
   ]
  },
  {
   "cell_type": "code",
   "execution_count": null,
   "metadata": {},
   "outputs": [],
   "source": []
  }
 ],
 "metadata": {
  "colab": {
   "collapsed_sections": [
    "O1eOogPqix4i",
    "oZzDBEKT2H9P",
    "WcTLE0ZdS-so",
    "CQMD4VIuPDen",
    "_og11F0MdrYE",
    "sZXX1rqz8hoT",
    "koCUPBFUKDIZ"
   ],
   "provenance": []
  },
  "kernelspec": {
   "display_name": "Python 3 (ipykernel)",
   "language": "python",
   "name": "python3"
  },
  "language_info": {
   "codemirror_mode": {
    "name": "ipython",
    "version": 3
   },
   "file_extension": ".py",
   "mimetype": "text/x-python",
   "name": "python",
   "nbconvert_exporter": "python",
   "pygments_lexer": "ipython3",
   "version": "3.9.16"
  },
  "toc": {
   "base_numbering": 1,
   "nav_menu": {},
   "number_sections": true,
   "sideBar": true,
   "skip_h1_title": false,
   "title_cell": "Table of Contents",
   "title_sidebar": "Contents",
   "toc_cell": false,
   "toc_position": {},
   "toc_section_display": true,
   "toc_window_display": false
  },
  "varInspector": {
   "cols": {
    "lenName": 16,
    "lenType": 16,
    "lenVar": 40
   },
   "kernels_config": {
    "python": {
     "delete_cmd_postfix": "",
     "delete_cmd_prefix": "del ",
     "library": "var_list.py",
     "varRefreshCmd": "print(var_dic_list())"
    },
    "r": {
     "delete_cmd_postfix": ") ",
     "delete_cmd_prefix": "rm(",
     "library": "var_list.r",
     "varRefreshCmd": "cat(var_dic_list()) "
    }
   },
   "types_to_exclude": [
    "module",
    "function",
    "builtin_function_or_method",
    "instance",
    "_Feature"
   ],
   "window_display": false
  }
 },
 "nbformat": 4,
 "nbformat_minor": 1
}
